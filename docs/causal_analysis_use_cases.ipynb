{
 "cells": [
  {
   "cell_type": "markdown",
   "metadata": {},
   "source": [
    "# Use cases"
   ]
  },
  {
   "cell_type": "code",
   "execution_count": 1,
   "metadata": {},
   "outputs": [
    {
     "name": "stderr",
     "output_type": "stream",
     "text": [
      "c:\\ProjetsCode\\AgenticSupply\\.venv\\Lib\\site-packages\\tqdm\\auto.py:21: TqdmWarning: IProgress not found. Please update jupyter and ipywidgets. See https://ipywidgets.readthedocs.io/en/stable/user_install.html\n",
      "  from .autonotebook import tqdm as notebook_tqdm\n"
     ]
    }
   ],
   "source": [
    "from agentic_supply.causality_assistant.causal_analysis import CausalAnalysis\n",
    "\n",
    "import os\n",
    "import pandas as pd"
   ]
  },
  {
   "cell_type": "code",
   "execution_count": 2,
   "metadata": {},
   "outputs": [
    {
     "data": {
      "text/plain": [
       "'c:\\\\ProjetsCode\\\\AgenticSupply'"
      ]
     },
     "execution_count": 2,
     "metadata": {},
     "output_type": "execute_result"
    }
   ],
   "source": [
    "os.chdir(\"..\")\n",
    "os.getcwd()"
   ]
  },
  {
   "cell_type": "markdown",
   "metadata": {},
   "source": [
    "## Finding Root Causes of Changes in a Supply Chain\n",
    "Reproduce [reference notebook](https://www.pywhy.org/dowhy/v0.13/example_notebooks/gcm_supply_chain_dist_change.html)  "
   ]
  },
  {
   "cell_type": "code",
   "execution_count": 2,
   "metadata": {},
   "outputs": [
    {
     "name": "stderr",
     "output_type": "stream",
     "text": [
      "2025-09-11 10:59:51,289 : agentic_supply.causality_assistant.causal_graph - INFO - Causal graph instanciated for supply_chain_logistics with form : [('demand', 'submitted'), ('constraint', 'submitted'), ('submitted', 'confirmed'), ('confirmed', 'received')]\n",
      "2025-09-11 10:59:51,356 : agentic_supply.causality_assistant.causal_analysis - INFO - Causal model instanciated for supply_chain_logistics with causal graph of form : [('demand', 'submitted'), ('constraint', 'submitted'), ('submitted', 'confirmed'), ('confirmed', 'received')]\n",
      "2025-09-11 10:59:51,356 : agentic_supply.causality_assistant.causal_analysis - INFO - Loading model from supply_chain_logistics_model.pkl\n",
      "2025-09-11 10:59:51,375 : agentic_supply.causality_assistant.causal_analysis - INFO - Causal model instanciated for supply_chain_logistics with causal graph of form : [('demand', 'submitted'), ('constraint', 'submitted'), ('submitted', 'confirmed'), ('confirmed', 'received')]\n"
     ]
    }
   ],
   "source": [
    "data_name = \"supply_chain_logistics\"\n",
    "causal_analysis = CausalAnalysis(data_name, model_from_file=True)"
   ]
  },
  {
   "cell_type": "code",
   "execution_count": 3,
   "metadata": {},
   "outputs": [
    {
     "data": {
      "text/plain": [
       "<agentic_supply.causality_assistant.causal_graph.CausalGraph at 0x1a3ca270740>"
      ]
     },
     "execution_count": 3,
     "metadata": {},
     "output_type": "execute_result"
    },
    {
     "data": {
      "text/plain": [
       "<Figure size 640x480 with 0 Axes>"
      ]
     },
     "metadata": {},
     "output_type": "display_data"
    }
   ],
   "source": [
    "causal_analysis.causal_graph.visualise()"
   ]
  },
  {
   "cell_type": "code",
   "execution_count": null,
   "metadata": {},
   "outputs": [],
   "source": [
    "causal_analysis.causal_graph.refutate()"
   ]
  },
  {
   "cell_type": "code",
   "execution_count": null,
   "metadata": {},
   "outputs": [],
   "source": [
    "print(causal_analysis.fit_report)"
   ]
  },
  {
   "cell_type": "markdown",
   "metadata": {},
   "source": [
    "**Why did the average value of received quantity change week-over-week ?**"
   ]
  },
  {
   "cell_type": "code",
   "execution_count": 4,
   "metadata": {},
   "outputs": [
    {
     "name": "stderr",
     "output_type": "stream",
     "text": [
      "2025-09-11 10:59:57,577 : agentic_supply.causality_assistant.causal_analysis - INFO - Calculating distribution change attribution from data_new with 1000 samples using the bootstrap method\n",
      "Evaluating set functions...: 100%|██████████| 32/32 [00:00<00:00, 736.42it/s]\n",
      "Evaluating set functions...: 100%|██████████| 32/32 [00:00<00:00, 3840.50it/s]t]\n",
      "Evaluating set functions...: 100%|██████████| 32/32 [00:00<00:00, 2423.14it/s]t]\n",
      "Evaluating set functions...: 100%|██████████| 32/32 [00:00<00:00, 11114.42it/s] \n",
      "Evaluating set functions...: 100%|██████████| 32/32 [00:00<00:00, 2535.42it/s]]\n",
      "Estimating bootstrap interval...: 100%|██████████| 5/5 [06:50<00:00, 82.03s/it]\n"
     ]
    },
    {
     "name": "stdout",
     "output_type": "stream",
     "text": [
      "Distribution change likelihood scores : {'confirmed': np.float64(-0.42990724435310695), 'constraint': np.float64(0.1108978903850935), 'demand': np.float64(1.8907914881584842), 'received': np.float64(1.014340639760372), 'submitted': np.float64(1.050259978177752)}\n",
      "        The node demand has the highest likelihood of causing the distribution change seen in your given data.\n"
     ]
    },
    {
     "data": {
      "text/plain": [
       "<Figure size 640x480 with 0 Axes>"
      ]
     },
     "metadata": {},
     "output_type": "display_data"
    }
   ],
   "source": [
    "data_old = causal_analysis.data[causal_analysis.data.week == \"w1\"]\n",
    "data_new = causal_analysis.data[causal_analysis.data.week == \"w2\"]\n",
    "_, interpretation = causal_analysis.get_distribution_change_attribution(data_new=data_new, data_old=data_old, bootstrap=True)\n",
    "print(interpretation)"
   ]
  },
  {
   "cell_type": "markdown",
   "metadata": {},
   "source": [
    "## Causal Attributions and Root-Cause Analysis in an Online Shop\n",
    "Reproduce [reference notebook](https://www.pywhy.org/dowhy/v0.13/example_notebooks/gcm_online_shop.html)  "
   ]
  },
  {
   "cell_type": "code",
   "execution_count": 2,
   "metadata": {},
   "outputs": [
    {
     "name": "stderr",
     "output_type": "stream",
     "text": [
      "2025-09-12 10:00:37,673 : agentic_supply.causality_assistant.causal_graph - INFO - Causal graph instanciated for online_shop_data with form : [('Page Views', 'Sold Units'), ('Revenue', 'Profit'), ('Unit Price', 'Sold Units'), ('Unit Price', 'Revenue'), ('Shopping Event?', 'Page Views'), ('Shopping Event?', 'Sold Units'), ('Shopping Event?', 'Unit Price'), ('Shopping Event?', 'Ad Spend'), ('Ad Spend', 'Page Views'), ('Ad Spend', 'Operational Cost'), ('Sold Units', 'Revenue'), ('Sold Units', 'Operational Cost'), ('Operational Cost', 'Profit')]\n",
      "2025-09-12 10:00:37,734 : agentic_supply.causality_assistant.causal_analysis - INFO - Loading model from online_shop_data_model.pkl\n",
      "2025-09-12 10:00:37,749 : agentic_supply.causality_assistant.causal_analysis - INFO - Causal model instanciated for online_shop_data with causal graph of form : [('Page Views', 'Sold Units'), ('Revenue', 'Profit'), ('Unit Price', 'Sold Units'), ('Unit Price', 'Revenue'), ('Shopping Event?', 'Page Views'), ('Shopping Event?', 'Sold Units'), ('Shopping Event?', 'Unit Price'), ('Shopping Event?', 'Ad Spend'), ('Ad Spend', 'Page Views'), ('Ad Spend', 'Operational Cost'), ('Sold Units', 'Revenue'), ('Sold Units', 'Operational Cost'), ('Operational Cost', 'Profit')]\n"
     ]
    }
   ],
   "source": [
    "from dowhy.datasets import sales_dataset\n",
    "\n",
    "data_2021 = sales_dataset(start_date=\"2021-01-01\", end_date=\"2021-12-31\")\n",
    "data_2022 = sales_dataset(start_date=\"2022-01-01\", end_date=\"2022-12-31\", change_of_price=0.9)\n",
    "\n",
    "data_name = \"online_shop_data\"\n",
    "causal_analysis = CausalAnalysis(data_name, model_from_file=True)"
   ]
  },
  {
   "cell_type": "code",
   "execution_count": 3,
   "metadata": {},
   "outputs": [
    {
     "data": {
      "text/plain": [
       "<agentic_supply.causality_assistant.causal_graph.CausalGraph at 0x1ca09af4ce0>"
      ]
     },
     "execution_count": 3,
     "metadata": {},
     "output_type": "execute_result"
    },
    {
     "data": {
      "text/plain": [
       "<Figure size 640x480 with 0 Axes>"
      ]
     },
     "metadata": {},
     "output_type": "display_data"
    }
   ],
   "source": [
    "causal_analysis.causal_graph.visualise()"
   ]
  },
  {
   "cell_type": "markdown",
   "metadata": {},
   "source": [
    "**What are the key factors influencing the variance in profit ?**"
   ]
  },
  {
   "cell_type": "code",
   "execution_count": 9,
   "metadata": {},
   "outputs": [
    {
     "name": "stderr",
     "output_type": "stream",
     "text": [
      "2025-09-11 11:17:04,652 : agentic_supply.causality_assistant.causal_analysis - INFO - Calculating arrow strength of parent nodes to Profit\n"
     ]
    },
    {
     "name": "stdout",
     "output_type": "stream",
     "text": [
      "Arrow strength (direct effect) scores : {('Operational Cost', 'Profit'): np.float64(212710217004.89752), ('Revenue', 'Profit'): np.float64(646060358690.2659)} (percentages : {('Operational Cost', 'Profit'): 24.769155234820598, ('Revenue', 'Profit'): 75.2308447651794}). \n",
      "        The scores indicate how much variance each node is contributing to Profit — where influences through paths over other nodes are ignored. \n",
      "        Removing the most impactful causal link, ('Revenue', 'Profit'), increases the variance of Profit by 646060358690.2659 units (75.2308447651794 %).\n",
      "        \n"
     ]
    }
   ],
   "source": [
    "_, _, interpretation = causal_analysis.get_arrow_strength()\n",
    "print(interpretation)"
   ]
  },
  {
   "cell_type": "code",
   "execution_count": 8,
   "metadata": {},
   "outputs": [
    {
     "name": "stderr",
     "output_type": "stream",
     "text": [
      "2025-09-12 09:35:42,446 : agentic_supply.causality_assistant.causal_analysis - INFO - Calculating intrinsic causal influence of parent nodes to Profit\n",
      "Evaluating set functions...: 100%|██████████| 113/113 [01:55<00:00,  1.02s/it]\n"
     ]
    },
    {
     "name": "stdout",
     "output_type": "stream",
     "text": [
      "Intrinsic causal influence scores : {'Shopping Event?': 67258836709.57211, 'Unit Price': 27592887249.976288, 'Ad Spend': 38374362.929785885, 'Page Views': 1320789286.2757769, 'Sold Units': 1201033090.6451528, 'Revenue': -2114030.719688773, 'Operational Cost': 2106963.989481468, 'Profit': -1533261.0605267882} (percentages : {'Shopping Event?': 69.04171829241903, 'Unit Price': 28.32431308042859, 'Ad Spend': 0.03939158160718329, 'Page Views': 1.3558004611417775, 'Sold Units': 1.2328697961615926, 'Revenue': 0.002170068953772137, 'Operational Cost': 0.0021628149003259252, 'Profit': 0.0015739043877123816}).\n",
      "        The scores indicate how much variance each node is contributing to Profit — without inheriting the variance from its parents in the causal graph (hence, intrinsic to the node itself).\n",
      "        The most impactful node Shopping Event? contributes 69.04171829241903 % of the variance in Profit.\n",
      "        \n"
     ]
    },
    {
     "data": {
      "text/plain": [
       "<Figure size 640x480 with 0 Axes>"
      ]
     },
     "metadata": {},
     "output_type": "display_data"
    }
   ],
   "source": [
    "_, _, interpretation = causal_analysis.get_intrinsic_causal_influence()\n",
    "print(interpretation)"
   ]
  },
  {
   "cell_type": "markdown",
   "metadata": {},
   "source": [
    "**What are the key factors explaining the Profit drop on a particular day ?**"
   ]
  },
  {
   "cell_type": "code",
   "execution_count": 5,
   "metadata": {},
   "outputs": [
    {
     "name": "stderr",
     "output_type": "stream",
     "text": [
      "2025-09-12 10:00:46,671 : agentic_supply.causality_assistant.causal_analysis - INFO - Calculating anomaly attribution from anomalous_data with 1 samples using the bootstrap method\n",
      "Fitting causal mechanism of node Operational Cost: 100%|██████████| 8/8 [00:00<00:00, 250.00it/s]\n",
      "Evaluating set functions...: 100%|██████████| 120/120 [01:20<00:00,  1.50it/s]\n",
      "Fitting causal mechanism of node Operational Cost: 100%|██████████| 8/8 [00:00<00:00, 141.19it/s]\n",
      "Evaluating set functions...: 100%|██████████| 115/115 [00:04<00:00, 27.34it/s]\n",
      "Fitting causal mechanism of node Operational Cost: 100%|██████████| 8/8 [00:00<00:00, 161.33it/s]\n",
      "Evaluating set functions...: 100%|██████████| 114/114 [00:03<00:00, 29.29it/s]\n",
      "Fitting causal mechanism of node Operational Cost: 100%|██████████| 8/8 [00:00<00:00, 185.12it/s]\n",
      "Evaluating set functions...: 100%|██████████| 114/114 [00:03<00:00, 30.57it/s]\n",
      "Fitting causal mechanism of node Operational Cost: 100%|██████████| 8/8 [00:00<00:00, 176.70it/s]\n",
      "Evaluating set functions...: 100%|██████████| 115/115 [00:03<00:00, 30.24it/s]\n",
      "Fitting causal mechanism of node Operational Cost: 100%|██████████| 8/8 [00:00<00:00, 170.86it/s]\n",
      "Evaluating set functions...: 100%|██████████| 115/115 [00:04<00:00, 28.70it/s]\n",
      "Fitting causal mechanism of node Operational Cost: 100%|██████████| 8/8 [00:00<00:00, 158.23it/s]\n",
      "Evaluating set functions...: 100%|██████████| 121/121 [00:04<00:00, 24.62it/s]\n",
      "Fitting causal mechanism of node Operational Cost: 100%|██████████| 8/8 [00:00<00:00, 194.03it/s]\n",
      "Evaluating set functions...: 100%|██████████| 117/117 [00:04<00:00, 27.69it/s]\n",
      "Fitting causal mechanism of node Operational Cost: 100%|██████████| 8/8 [00:00<00:00, 152.92it/s]\n",
      "Evaluating set functions...: 100%|██████████| 114/114 [00:04<00:00, 25.74it/s]\n",
      "Fitting causal mechanism of node Operational Cost: 100%|██████████| 8/8 [00:00<00:00, 141.08it/s]\n",
      "Evaluating set functions...: 100%|██████████| 113/113 [00:04<00:00, 25.00it/s]\n",
      "Estimating bootstrap interval...: 100%|██████████| 10/10 [02:13<00:00, 13.39s/it]\n"
     ]
    },
    {
     "data": {
      "text/plain": [
       "<Figure size 640x480 with 0 Axes>"
      ]
     },
     "metadata": {},
     "output_type": "display_data"
    }
   ],
   "source": [
    "_, interpretation = causal_analysis.get_anomaly_attribution(data_2022.iloc[[0]], bootstrap=True)"
   ]
  },
  {
   "cell_type": "markdown",
   "metadata": {},
   "source": [
    "**What caused the profit drop in Q1 2022 ?**"
   ]
  },
  {
   "cell_type": "code",
   "execution_count": 12,
   "metadata": {},
   "outputs": [],
   "source": [
    "data_first_quarter_2021 = data_2021[data_2021.Date <= \"2021-03-31\"]\n",
    "data_first_quarter_2022 = data_2022[data_2022.Date <= \"2022-03-31\"]"
   ]
  },
  {
   "cell_type": "code",
   "execution_count": 13,
   "metadata": {},
   "outputs": [
    {
     "name": "stderr",
     "output_type": "stream",
     "text": [
      "2025-09-11 17:20:34,560 : agentic_supply.causality_assistant.causal_analysis - INFO - Calculating distribution change attribution from data_new with 90 samples using the bootstrap method\n",
      "Evaluating set functions...: 100%|██████████| 114/114 [00:00<00:00, 200.57it/s]\n",
      "Evaluating set functions...: 100%|██████████| 116/116 [00:00<00:00, 366.49it/s]]\n",
      "Evaluating set functions...: 100%|██████████| 114/114 [00:00<00:00, 591.60it/s]]\n",
      "Evaluating set functions...: 100%|██████████| 118/118 [00:00<00:00, 521.39it/s] \n",
      "Evaluating set functions...: 100%|██████████| 117/117 [00:00<00:00, 419.62it/s]\n",
      "Estimating bootstrap interval...: 100%|██████████| 5/5 [05:39<00:00, 67.87s/it]\n"
     ]
    },
    {
     "data": {
      "text/plain": [
       "<Figure size 640x480 with 0 Axes>"
      ]
     },
     "metadata": {},
     "output_type": "display_data"
    }
   ],
   "source": [
    "_, interpretation = causal_analysis.get_distribution_change_attribution(\n",
    "    data_old=data_first_quarter_2021, data_new=data_first_quarter_2022, bootstrap=True\n",
    ")"
   ]
  },
  {
   "cell_type": "markdown",
   "metadata": {},
   "source": [
    "## Finding the Root Cause of Elevated Latencies in a Microservice Architecture\n",
    "Reproduce [reference notebook](https://www.pywhy.org/dowhy/v0.13/example_notebooks/gcm_rca_microservice_architecture.html#)  "
   ]
  },
  {
   "cell_type": "code",
   "execution_count": 3,
   "metadata": {},
   "outputs": [
    {
     "name": "stderr",
     "output_type": "stream",
     "text": [
      "2025-09-12 16:45:07,090 : agentic_supply.causality_assistant.causal_graph - INFO - Causal graph instanciated for microservices_latencies with form : [('www', 'Website'), ('Auth Service', 'www'), ('API', 'www'), ('Customer DB', 'Auth Service'), ('Customer DB', 'API'), ('Product Service', 'API'), ('Auth Service', 'API'), ('Order Service', 'API'), ('Shipping Cost Service', 'Product Service'), ('Caching Service', 'Product Service'), ('Product DB', 'Caching Service'), ('Customer DB', 'Product Service'), ('Order DB', 'Order Service')]\n",
      "2025-09-12 16:45:07,149 : agentic_supply.causality_assistant.causal_analysis - INFO - Loading model from microservices_latencies_model.pkl\n",
      "2025-09-12 16:45:07,153 : agentic_supply.causality_assistant.causal_analysis - INFO - Causal model instanciated for microservices_latencies with causal graph of form : [('www', 'Website'), ('Auth Service', 'www'), ('API', 'www'), ('Customer DB', 'Auth Service'), ('Customer DB', 'API'), ('Product Service', 'API'), ('Auth Service', 'API'), ('Order Service', 'API'), ('Shipping Cost Service', 'Product Service'), ('Caching Service', 'Product Service'), ('Product DB', 'Caching Service'), ('Customer DB', 'Product Service'), ('Order DB', 'Order Service')]\n"
     ]
    }
   ],
   "source": [
    "data_name = \"microservices_latencies\"\n",
    "causal_analysis = CausalAnalysis(data_name, model_from_file=True)"
   ]
  },
  {
   "cell_type": "code",
   "execution_count": 6,
   "metadata": {},
   "outputs": [
    {
     "name": "stderr",
     "output_type": "stream",
     "text": [
      "2025-09-12 10:26:01,105 : agentic_supply.causality_assistant.causal_analysis - INFO - Evaluating the fitted model for microservices_latencies with causal graph of form : [('www', 'Website'), ('Auth Service', 'www'), ('API', 'www'), ('Customer DB', 'Auth Service'), ('Customer DB', 'API'), ('Product Service', 'API'), ('Auth Service', 'API'), ('Order Service', 'API'), ('Shipping Cost Service', 'Product Service'), ('Caching Service', 'Product Service'), ('Product DB', 'Caching Service'), ('Customer DB', 'Product Service'), ('Order DB', 'Order Service')]\n",
      "Evaluating causal mechanisms...: 100%|██████████| 11/11 [00:00<00:00, 117.81it/s]\n"
     ]
    },
    {
     "data": {
      "text/plain": [
       "<agentic_supply.causality_assistant.causal_analysis.CausalAnalysis at 0x17fb582d100>"
      ]
     },
     "execution_count": 6,
     "metadata": {},
     "output_type": "execute_result"
    }
   ],
   "source": [
    "causal_analysis.evaluate()"
   ]
  },
  {
   "cell_type": "markdown",
   "metadata": {},
   "source": [
    "**Why was the website slower for customer 0 ?**"
   ]
  },
  {
   "cell_type": "code",
   "execution_count": 4,
   "metadata": {},
   "outputs": [
    {
     "data": {
      "text/plain": [
       "202    4.682143\n",
       "Name: Website, dtype: float64"
      ]
     },
     "execution_count": 4,
     "metadata": {},
     "output_type": "execute_result"
    }
   ],
   "source": [
    "outlier_data = pd.read_csv(\"./src/agentic_supply/data/microservices_latencies_outlier_data.csv\")\n",
    "max_diff_outlier = outlier_data.iloc[[(outlier_data[\"Website\"] - causal_analysis.data[\"Website\"].mean()).idxmax()]]\n",
    "max_diff_outlier[\"Website\"] - causal_analysis.data[\"Website\"].mean()"
   ]
  },
  {
   "cell_type": "code",
   "execution_count": 5,
   "metadata": {},
   "outputs": [
    {
     "name": "stderr",
     "output_type": "stream",
     "text": [
      "2025-09-12 15:26:29,147 : agentic_supply.causality_assistant.causal_analysis - INFO - Calculating anomaly attribution from anomalous_data with 1 samples using the bootstrap method\n",
      "Fitting causal mechanism of node Order DB: 100%|██████████| 11/11 [00:03<00:00,  3.63it/s]            \n",
      "Evaluating set functions...: 100%|██████████| 208/208 [01:22<00:00,  2.52it/s]\n",
      "Fitting causal mechanism of node Order DB: 100%|██████████| 11/11 [00:00<00:00, 20.64it/s]            \n",
      "Evaluating set functions...: 100%|██████████| 210/210 [00:09<00:00, 21.81it/s]\n",
      "Fitting causal mechanism of node Order DB: 100%|██████████| 11/11 [00:00<00:00, 19.32it/s]            \n",
      "Evaluating set functions...: 100%|██████████| 209/209 [00:09<00:00, 22.69it/s]\n",
      "Fitting causal mechanism of node Order DB: 100%|██████████| 11/11 [00:00<00:00, 31.54it/s]            \n",
      "Evaluating set functions...: 100%|██████████| 210/210 [00:09<00:00, 23.31it/s]\n",
      "Fitting causal mechanism of node Order DB: 100%|██████████| 11/11 [00:00<00:00, 15.77it/s]            \n",
      "Evaluating set functions...: 100%|██████████| 209/209 [00:10<00:00, 19.79it/s]\n",
      "Fitting causal mechanism of node Order DB: 100%|██████████| 11/11 [00:00<00:00, 14.65it/s]            \n",
      "Evaluating set functions...: 100%|██████████| 206/206 [00:08<00:00, 23.02it/s]\n",
      "Fitting causal mechanism of node Order DB: 100%|██████████| 11/11 [00:00<00:00, 11.91it/s]            \n",
      "Evaluating set functions...: 100%|██████████| 212/212 [00:09<00:00, 23.50it/s]\n",
      "Fitting causal mechanism of node Order DB: 100%|██████████| 11/11 [00:00<00:00, 20.71it/s]            \n",
      "Evaluating set functions...: 100%|██████████| 209/209 [00:08<00:00, 24.82it/s]\n",
      "Fitting causal mechanism of node Order DB: 100%|██████████| 11/11 [00:00<00:00, 29.97it/s]            \n",
      "Evaluating set functions...: 100%|██████████| 210/210 [00:08<00:00, 24.37it/s]\n",
      "Fitting causal mechanism of node Order DB: 100%|██████████| 11/11 [00:00<00:00, 24.30it/s]            \n",
      "Evaluating set functions...: 100%|██████████| 210/210 [00:08<00:00, 25.93it/s]\n",
      "Estimating bootstrap interval...: 100%|██████████| 10/10 [03:08<00:00, 18.82s/it]\n"
     ]
    },
    {
     "data": {
      "text/plain": [
       "<Figure size 640x480 with 0 Axes>"
      ]
     },
     "metadata": {},
     "output_type": "display_data"
    }
   ],
   "source": [
    "_, interpretation = causal_analysis.get_anomaly_attribution(max_diff_outlier, bootstrap=True)"
   ]
  },
  {
   "cell_type": "markdown",
   "metadata": {},
   "source": [
    "**Why, for this data, is the Website slower than usual ?**"
   ]
  },
  {
   "cell_type": "code",
   "execution_count": null,
   "metadata": {},
   "outputs": [],
   "source": [
    "outlier_data[\"Website\"].mean() - causal_analysis.data[\"Website\"].mean()"
   ]
  },
  {
   "cell_type": "code",
   "execution_count": null,
   "metadata": {},
   "outputs": [],
   "source": [
    "_, interpretation = causal_analysis.get_distribution_change_attribution(data_new=outlier_data, bootstrap=True)"
   ]
  },
  {
   "cell_type": "markdown",
   "metadata": {},
   "source": [
    "**Could we mitigate the situation identified due to Caching Service by shifting over some resources from Shipping Service to Caching Service ? And would that help ?**  \n",
    "*Let’s perform an intervention where we say we can reduce the average time of Caching Service by 1s. But at the same time we buy this speed-up by an average slow-down of 2s in Shipping Cost Service.*"
   ]
  },
  {
   "cell_type": "code",
   "execution_count": 5,
   "metadata": {},
   "outputs": [
    {
     "name": "stderr",
     "output_type": "stream",
     "text": [
      "2025-09-12 16:45:07,186 : agentic_supply.causality_assistant.causal_analysis - INFO - Generating Interventional samples mean for microservices_latencies with Caching Service : x - 1, Shipping Cost Service : x + 2\n",
      "Estimating bootstrap interval...:   0%|          | 0/10 [00:00<?, ?it/s]2025-09-12 16:45:07,439 : agentic_supply.causality_assistant.causal_analysis - INFO - Parsed x - 1 on Caching Service to x - 1, see disassembling :\n",
      "  1           0 RESUME                   0\n",
      "\n",
      "  2           2 LOAD_FAST                0 (x)\n",
      "              4 LOAD_CONST               1 (1)\n",
      "              6 BINARY_OP               10 (-)\n",
      "             10 RETURN_VALUE\n",
      "\n",
      "2025-09-12 16:45:07,441 : agentic_supply.causality_assistant.causal_analysis - INFO - Parsed x + 2 on Shipping Cost Service to x + 2, see disassembling :\n",
      "  1           0 RESUME                   0\n",
      "\n",
      "  2           2 LOAD_FAST                0 (x)\n",
      "              4 LOAD_CONST               1 (2)\n",
      "              6 BINARY_OP                0 (+)\n",
      "             10 RETURN_VALUE\n",
      "\n",
      "Fitting causal mechanism of node Order DB: 100%|██████████| 11/11 [00:02<00:00,  4.91it/s]            \n",
      "Estimating bootstrap interval...:  10%|█         | 1/10 [00:02<00:22,  2.51s/it]2025-09-12 16:45:09,704 : agentic_supply.causality_assistant.causal_analysis - INFO - Parsed x - 1 on Caching Service to x - 1, see disassembling :\n",
      "  1           0 RESUME                   0\n",
      "\n",
      "  2           2 LOAD_FAST                0 (x)\n",
      "              4 LOAD_CONST               1 (1)\n",
      "              6 BINARY_OP               10 (-)\n",
      "             10 RETURN_VALUE\n",
      "\n",
      "2025-09-12 16:45:09,704 : agentic_supply.causality_assistant.causal_analysis - INFO - Parsed x + 2 on Shipping Cost Service to x + 2, see disassembling :\n",
      "  1           0 RESUME                   0\n",
      "\n",
      "  2           2 LOAD_FAST                0 (x)\n",
      "              4 LOAD_CONST               1 (2)\n",
      "              6 BINARY_OP                0 (+)\n",
      "             10 RETURN_VALUE\n",
      "\n",
      "Fitting causal mechanism of node Order DB: 100%|██████████| 11/11 [00:00<00:00, 60.36it/s]            \n",
      "Estimating bootstrap interval...:  20%|██        | 2/10 [00:02<00:09,  1.16s/it]2025-09-12 16:45:09,909 : agentic_supply.causality_assistant.causal_analysis - INFO - Parsed x - 1 on Caching Service to x - 1, see disassembling :\n",
      "  1           0 RESUME                   0\n",
      "\n",
      "  2           2 LOAD_FAST                0 (x)\n",
      "              4 LOAD_CONST               1 (1)\n",
      "              6 BINARY_OP               10 (-)\n",
      "             10 RETURN_VALUE\n",
      "\n",
      "2025-09-12 16:45:09,909 : agentic_supply.causality_assistant.causal_analysis - INFO - Parsed x + 2 on Shipping Cost Service to x + 2, see disassembling :\n",
      "  1           0 RESUME                   0\n",
      "\n",
      "  2           2 LOAD_FAST                0 (x)\n",
      "              4 LOAD_CONST               1 (2)\n",
      "              6 BINARY_OP                0 (+)\n",
      "             10 RETURN_VALUE\n",
      "\n",
      "Fitting causal mechanism of node Order DB: 100%|██████████| 11/11 [00:00<00:00, 55.78it/s]            \n",
      "Estimating bootstrap interval...:  30%|███       | 3/10 [00:02<00:05,  1.39it/s]2025-09-12 16:45:10,120 : agentic_supply.causality_assistant.causal_analysis - INFO - Parsed x - 1 on Caching Service to x - 1, see disassembling :\n",
      "  1           0 RESUME                   0\n",
      "\n",
      "  2           2 LOAD_FAST                0 (x)\n",
      "              4 LOAD_CONST               1 (1)\n",
      "              6 BINARY_OP               10 (-)\n",
      "             10 RETURN_VALUE\n",
      "\n",
      "2025-09-12 16:45:10,123 : agentic_supply.causality_assistant.causal_analysis - INFO - Parsed x + 2 on Shipping Cost Service to x + 2, see disassembling :\n",
      "  1           0 RESUME                   0\n",
      "\n",
      "  2           2 LOAD_FAST                0 (x)\n",
      "              4 LOAD_CONST               1 (2)\n",
      "              6 BINARY_OP                0 (+)\n",
      "             10 RETURN_VALUE\n",
      "\n",
      "Fitting causal mechanism of node Order DB: 100%|██████████| 11/11 [00:00<00:00, 61.90it/s]            \n",
      "Estimating bootstrap interval...:  40%|████      | 4/10 [00:03<00:03,  1.93it/s]2025-09-12 16:45:10,319 : agentic_supply.causality_assistant.causal_analysis - INFO - Parsed x - 1 on Caching Service to x - 1, see disassembling :\n",
      "  1           0 RESUME                   0\n",
      "\n",
      "  2           2 LOAD_FAST                0 (x)\n",
      "              4 LOAD_CONST               1 (1)\n",
      "              6 BINARY_OP               10 (-)\n",
      "             10 RETURN_VALUE\n",
      "\n",
      "2025-09-12 16:45:10,329 : agentic_supply.causality_assistant.causal_analysis - INFO - Parsed x + 2 on Shipping Cost Service to x + 2, see disassembling :\n",
      "  1           0 RESUME                   0\n",
      "\n",
      "  2           2 LOAD_FAST                0 (x)\n",
      "              4 LOAD_CONST               1 (2)\n",
      "              6 BINARY_OP                0 (+)\n",
      "             10 RETURN_VALUE\n",
      "\n",
      "Fitting causal mechanism of node Order DB: 100%|██████████| 11/11 [00:00<00:00, 43.10it/s]            \n",
      "Estimating bootstrap interval...:  50%|█████     | 5/10 [00:03<00:02,  2.32it/s]2025-09-12 16:45:10,596 : agentic_supply.causality_assistant.causal_analysis - INFO - Parsed x - 1 on Caching Service to x - 1, see disassembling :\n",
      "  1           0 RESUME                   0\n",
      "\n",
      "  2           2 LOAD_FAST                0 (x)\n",
      "              4 LOAD_CONST               1 (1)\n",
      "              6 BINARY_OP               10 (-)\n",
      "             10 RETURN_VALUE\n",
      "\n",
      "2025-09-12 16:45:10,602 : agentic_supply.causality_assistant.causal_analysis - INFO - Parsed x + 2 on Shipping Cost Service to x + 2, see disassembling :\n",
      "  1           0 RESUME                   0\n",
      "\n",
      "  2           2 LOAD_FAST                0 (x)\n",
      "              4 LOAD_CONST               1 (2)\n",
      "              6 BINARY_OP                0 (+)\n",
      "             10 RETURN_VALUE\n",
      "\n",
      "Fitting causal mechanism of node Order DB: 100%|██████████| 11/11 [00:00<00:00, 51.23it/s]            \n",
      "Estimating bootstrap interval...:  60%|██████    | 6/10 [00:03<00:01,  2.73it/s]2025-09-12 16:45:10,842 : agentic_supply.causality_assistant.causal_analysis - INFO - Parsed x - 1 on Caching Service to x - 1, see disassembling :\n",
      "  1           0 RESUME                   0\n",
      "\n",
      "  2           2 LOAD_FAST                0 (x)\n",
      "              4 LOAD_CONST               1 (1)\n",
      "              6 BINARY_OP               10 (-)\n",
      "             10 RETURN_VALUE\n",
      "\n",
      "2025-09-12 16:45:10,842 : agentic_supply.causality_assistant.causal_analysis - INFO - Parsed x + 2 on Shipping Cost Service to x + 2, see disassembling :\n",
      "  1           0 RESUME                   0\n",
      "\n",
      "  2           2 LOAD_FAST                0 (x)\n",
      "              4 LOAD_CONST               1 (2)\n",
      "              6 BINARY_OP                0 (+)\n",
      "             10 RETURN_VALUE\n",
      "\n",
      "Fitting causal mechanism of node Order DB: 100%|██████████| 11/11 [00:00<00:00, 51.54it/s]            \n",
      "Estimating bootstrap interval...:  70%|███████   | 7/10 [00:03<00:00,  3.09it/s]2025-09-12 16:45:11,075 : agentic_supply.causality_assistant.causal_analysis - INFO - Parsed x - 1 on Caching Service to x - 1, see disassembling :\n",
      "  1           0 RESUME                   0\n",
      "\n",
      "  2           2 LOAD_FAST                0 (x)\n",
      "              4 LOAD_CONST               1 (1)\n",
      "              6 BINARY_OP               10 (-)\n",
      "             10 RETURN_VALUE\n",
      "\n",
      "2025-09-12 16:45:11,075 : agentic_supply.causality_assistant.causal_analysis - INFO - Parsed x + 2 on Shipping Cost Service to x + 2, see disassembling :\n",
      "  1           0 RESUME                   0\n",
      "\n",
      "  2           2 LOAD_FAST                0 (x)\n",
      "              4 LOAD_CONST               1 (2)\n",
      "              6 BINARY_OP                0 (+)\n",
      "             10 RETURN_VALUE\n",
      "\n",
      "Fitting causal mechanism of node Order DB: 100%|██████████| 11/11 [00:00<00:00, 56.33it/s]            \n",
      "Estimating bootstrap interval...:  80%|████████  | 8/10 [00:04<00:00,  3.53it/s]2025-09-12 16:45:11,270 : agentic_supply.causality_assistant.causal_analysis - INFO - Parsed x - 1 on Caching Service to x - 1, see disassembling :\n",
      "  1           0 RESUME                   0\n",
      "\n",
      "  2           2 LOAD_FAST                0 (x)\n",
      "              4 LOAD_CONST               1 (1)\n",
      "              6 BINARY_OP               10 (-)\n",
      "             10 RETURN_VALUE\n",
      "\n",
      "2025-09-12 16:45:11,287 : agentic_supply.causality_assistant.causal_analysis - INFO - Parsed x + 2 on Shipping Cost Service to x + 2, see disassembling :\n",
      "  1           0 RESUME                   0\n",
      "\n",
      "  2           2 LOAD_FAST                0 (x)\n",
      "              4 LOAD_CONST               1 (2)\n",
      "              6 BINARY_OP                0 (+)\n",
      "             10 RETURN_VALUE\n",
      "\n",
      "Fitting causal mechanism of node Order DB: 100%|██████████| 11/11 [00:00<00:00, 61.19it/s]            \n",
      "Estimating bootstrap interval...:  90%|█████████ | 9/10 [00:04<00:00,  3.79it/s]2025-09-12 16:45:11,492 : agentic_supply.causality_assistant.causal_analysis - INFO - Parsed x - 1 on Caching Service to x - 1, see disassembling :\n",
      "  1           0 RESUME                   0\n",
      "\n",
      "  2           2 LOAD_FAST                0 (x)\n",
      "              4 LOAD_CONST               1 (1)\n",
      "              6 BINARY_OP               10 (-)\n",
      "             10 RETURN_VALUE\n",
      "\n",
      "2025-09-12 16:45:11,492 : agentic_supply.causality_assistant.causal_analysis - INFO - Parsed x + 2 on Shipping Cost Service to x + 2, see disassembling :\n",
      "  1           0 RESUME                   0\n",
      "\n",
      "  2           2 LOAD_FAST                0 (x)\n",
      "              4 LOAD_CONST               1 (2)\n",
      "              6 BINARY_OP                0 (+)\n",
      "             10 RETURN_VALUE\n",
      "\n",
      "Fitting causal mechanism of node Order DB: 100%|██████████| 11/11 [00:00<00:00, 61.70it/s]            \n",
      "Estimating bootstrap interval...: 100%|██████████| 10/10 [00:04<00:00,  2.22it/s]\n"
     ]
    },
    {
     "data": {
      "text/plain": [
       "<Figure size 640x480 with 0 Axes>"
      ]
     },
     "metadata": {},
     "output_type": "display_data"
    }
   ],
   "source": [
    "median_mean, uncertainty_mean = causal_analysis.generate_interventional_samples(\n",
    "    bootstrap_mean=True, intervention_str=\"Caching Service : x - 1, Shipping Cost Service : x + 2\", observed_data=outlier_data\n",
    ")"
   ]
  }
 ],
 "metadata": {
  "kernelspec": {
   "display_name": ".venv",
   "language": "python",
   "name": "python3"
  },
  "language_info": {
   "codemirror_mode": {
    "name": "ipython",
    "version": 3
   },
   "file_extension": ".py",
   "mimetype": "text/x-python",
   "name": "python",
   "nbconvert_exporter": "python",
   "pygments_lexer": "ipython3",
   "version": "3.12.6"
  }
 },
 "nbformat": 4,
 "nbformat_minor": 2
}
