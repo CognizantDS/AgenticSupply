{
 "cells": [
  {
   "cell_type": "markdown",
   "metadata": {},
   "source": [
    "# Use cases"
   ]
  },
  {
   "cell_type": "code",
   "execution_count": 2,
   "metadata": {},
   "outputs": [
    {
     "name": "stderr",
     "output_type": "stream",
     "text": [
      "c:\\ProjetsCode\\AgenticSupply\\.venv\\Lib\\site-packages\\tqdm\\auto.py:21: TqdmWarning: IProgress not found. Please update jupyter and ipywidgets. See https://ipywidgets.readthedocs.io/en/stable/user_install.html\n",
      "  from .autonotebook import tqdm as notebook_tqdm\n"
     ]
    }
   ],
   "source": [
    "from agentic_supply.causality_assistant.causal_analysis import CausalAnalysis\n",
    "from agentic_supply.causality_assistant.causal_graph import CausalGraph\n",
    "\n",
    "import os\n",
    "\n",
    "os.chdir(\"..\")"
   ]
  },
  {
   "cell_type": "markdown",
   "metadata": {},
   "source": [
    "## Finding Root Causes of Changes in a Supply Chain\n",
    "Reproduce [reference notebook](https://www.pywhy.org/dowhy/v0.13/example_notebooks/gcm_supply_chain_dist_change.html)  "
   ]
  },
  {
   "cell_type": "code",
   "execution_count": 2,
   "metadata": {},
   "outputs": [
    {
     "name": "stderr",
     "output_type": "stream",
     "text": [
      "2025-09-11 10:59:51,289 : agentic_supply.causality_assistant.causal_graph - INFO - Causal graph instanciated for supply_chain_logistics with form : [('demand', 'submitted'), ('constraint', 'submitted'), ('submitted', 'confirmed'), ('confirmed', 'received')]\n",
      "2025-09-11 10:59:51,356 : agentic_supply.causality_assistant.causal_analysis - INFO - Causal model instanciated for supply_chain_logistics with causal graph of form : [('demand', 'submitted'), ('constraint', 'submitted'), ('submitted', 'confirmed'), ('confirmed', 'received')]\n",
      "2025-09-11 10:59:51,356 : agentic_supply.causality_assistant.causal_analysis - INFO - Loading model from supply_chain_logistics_model.pkl\n",
      "2025-09-11 10:59:51,375 : agentic_supply.causality_assistant.causal_analysis - INFO - Causal model instanciated for supply_chain_logistics with causal graph of form : [('demand', 'submitted'), ('constraint', 'submitted'), ('submitted', 'confirmed'), ('confirmed', 'received')]\n"
     ]
    }
   ],
   "source": [
    "data_name = \"supply_chain_logistics\"\n",
    "causal_graph = CausalGraph(data_name)\n",
    "causal_analysis = CausalAnalysis(causal_graph)\n",
    "causal_analysis = CausalAnalysis(causal_graph, model_from_file=True)"
   ]
  },
  {
   "cell_type": "code",
   "execution_count": 3,
   "metadata": {},
   "outputs": [
    {
     "data": {
      "text/plain": [
       "<agentic_supply.causality_assistant.causal_graph.CausalGraph at 0x1a3ca270740>"
      ]
     },
     "execution_count": 3,
     "metadata": {},
     "output_type": "execute_result"
    },
    {
     "data": {
      "text/plain": [
       "<Figure size 640x480 with 0 Axes>"
      ]
     },
     "metadata": {},
     "output_type": "display_data"
    }
   ],
   "source": [
    "causal_graph.visualise()"
   ]
  },
  {
   "cell_type": "code",
   "execution_count": null,
   "metadata": {},
   "outputs": [],
   "source": [
    "causal_graph.refutate()"
   ]
  },
  {
   "cell_type": "code",
   "execution_count": null,
   "metadata": {},
   "outputs": [],
   "source": [
    "print(causal_analysis.fit_report)"
   ]
  },
  {
   "cell_type": "markdown",
   "metadata": {},
   "source": [
    "**Why did the average value of received quantity change week-over-week ?**"
   ]
  },
  {
   "cell_type": "code",
   "execution_count": 4,
   "metadata": {},
   "outputs": [
    {
     "name": "stderr",
     "output_type": "stream",
     "text": [
      "2025-09-11 10:59:57,577 : agentic_supply.causality_assistant.causal_analysis - INFO - Calculating distribution change attribution from data_new with 1000 samples using the bootstrap method\n",
      "Evaluating set functions...: 100%|██████████| 32/32 [00:00<00:00, 736.42it/s]\n",
      "Evaluating set functions...: 100%|██████████| 32/32 [00:00<00:00, 3840.50it/s]t]\n",
      "Evaluating set functions...: 100%|██████████| 32/32 [00:00<00:00, 2423.14it/s]t]\n",
      "Evaluating set functions...: 100%|██████████| 32/32 [00:00<00:00, 11114.42it/s] \n",
      "Evaluating set functions...: 100%|██████████| 32/32 [00:00<00:00, 2535.42it/s]]\n",
      "Estimating bootstrap interval...: 100%|██████████| 5/5 [06:50<00:00, 82.03s/it]\n"
     ]
    },
    {
     "name": "stdout",
     "output_type": "stream",
     "text": [
      "Distribution change likelihood scores : {'confirmed': np.float64(-0.42990724435310695), 'constraint': np.float64(0.1108978903850935), 'demand': np.float64(1.8907914881584842), 'received': np.float64(1.014340639760372), 'submitted': np.float64(1.050259978177752)}\n",
      "        The node demand has the highest likelihood of causing the distribution change seen in your given data.\n"
     ]
    },
    {
     "data": {
      "text/plain": [
       "<Figure size 640x480 with 0 Axes>"
      ]
     },
     "metadata": {},
     "output_type": "display_data"
    }
   ],
   "source": [
    "data_old = causal_analysis.data[causal_analysis.data.week == \"w1\"]\n",
    "data_new = causal_analysis.data[causal_analysis.data.week == \"w2\"]\n",
    "_, interpretation = causal_analysis.get_distribution_change_attribution(data_new=data_new, data_old=data_old, bootstrap=True)\n",
    "print(interpretation)"
   ]
  },
  {
   "cell_type": "markdown",
   "metadata": {},
   "source": [
    "## Causal Attributions and Root-Cause Analysis in an Online Shop\n",
    "Reproduce [reference notebook](https://www.pywhy.org/dowhy/v0.13/example_notebooks/gcm_online_shop.html)  "
   ]
  },
  {
   "cell_type": "code",
   "execution_count": 3,
   "metadata": {},
   "outputs": [
    {
     "name": "stderr",
     "output_type": "stream",
     "text": [
      "2025-09-11 16:54:56,061 : agentic_supply.causality_assistant.causal_graph - INFO - Causal graph instanciated for online_shop_data with form : [('Page Views', 'Sold Units'), ('Revenue', 'Profit'), ('Unit Price', 'Sold Units'), ('Unit Price', 'Revenue'), ('Shopping Event?', 'Page Views'), ('Shopping Event?', 'Sold Units'), ('Shopping Event?', 'Unit Price'), ('Shopping Event?', 'Ad Spend'), ('Ad Spend', 'Page Views'), ('Ad Spend', 'Operational Cost'), ('Sold Units', 'Revenue'), ('Sold Units', 'Operational Cost'), ('Operational Cost', 'Profit')]\n",
      "2025-09-11 16:54:56,129 : agentic_supply.causality_assistant.causal_analysis - INFO - Causal model instanciated for online_shop_data with causal graph of form : [('Page Views', 'Sold Units'), ('Revenue', 'Profit'), ('Unit Price', 'Sold Units'), ('Unit Price', 'Revenue'), ('Shopping Event?', 'Page Views'), ('Shopping Event?', 'Sold Units'), ('Shopping Event?', 'Unit Price'), ('Shopping Event?', 'Ad Spend'), ('Ad Spend', 'Page Views'), ('Ad Spend', 'Operational Cost'), ('Sold Units', 'Revenue'), ('Sold Units', 'Operational Cost'), ('Operational Cost', 'Profit')]\n",
      "2025-09-11 16:54:56,133 : agentic_supply.causality_assistant.causal_analysis - INFO - Loading model from online_shop_data_model.pkl\n",
      "2025-09-11 16:54:56,149 : agentic_supply.causality_assistant.causal_analysis - INFO - Causal model instanciated for online_shop_data with causal graph of form : [('Page Views', 'Sold Units'), ('Revenue', 'Profit'), ('Unit Price', 'Sold Units'), ('Unit Price', 'Revenue'), ('Shopping Event?', 'Page Views'), ('Shopping Event?', 'Sold Units'), ('Shopping Event?', 'Unit Price'), ('Shopping Event?', 'Ad Spend'), ('Ad Spend', 'Page Views'), ('Ad Spend', 'Operational Cost'), ('Sold Units', 'Revenue'), ('Sold Units', 'Operational Cost'), ('Operational Cost', 'Profit')]\n"
     ]
    }
   ],
   "source": [
    "from dowhy.datasets import sales_dataset\n",
    "\n",
    "data_2021 = sales_dataset(start_date=\"2021-01-01\", end_date=\"2021-12-31\")\n",
    "data_2022 = sales_dataset(start_date=\"2022-01-01\", end_date=\"2022-12-31\", change_of_price=0.9)\n",
    "\n",
    "\n",
    "data_name = \"online_shop_data\"\n",
    "causal_graph = CausalGraph(data_name)\n",
    "causal_analysis = CausalAnalysis(causal_graph)\n",
    "causal_analysis = CausalAnalysis(causal_graph, model_from_file=True)"
   ]
  },
  {
   "cell_type": "code",
   "execution_count": 6,
   "metadata": {},
   "outputs": [
    {
     "data": {
      "text/plain": [
       "<agentic_supply.causality_assistant.causal_graph.CausalGraph at 0x1a3c9b811f0>"
      ]
     },
     "execution_count": 6,
     "metadata": {},
     "output_type": "execute_result"
    },
    {
     "data": {
      "text/plain": [
       "<Figure size 640x480 with 0 Axes>"
      ]
     },
     "metadata": {},
     "output_type": "display_data"
    }
   ],
   "source": [
    "causal_graph.visualise()"
   ]
  },
  {
   "cell_type": "code",
   "execution_count": null,
   "metadata": {},
   "outputs": [],
   "source": [
    "causal_analysis.fit().save_model()\n",
    "# print(causal_analysis.fit_report)"
   ]
  },
  {
   "cell_type": "markdown",
   "metadata": {},
   "source": [
    "**What are the key factors influencing the variance in profit ?**"
   ]
  },
  {
   "cell_type": "code",
   "execution_count": 9,
   "metadata": {},
   "outputs": [
    {
     "name": "stderr",
     "output_type": "stream",
     "text": [
      "2025-09-11 11:17:04,652 : agentic_supply.causality_assistant.causal_analysis - INFO - Calculating arrow strength of parent nodes to Profit\n"
     ]
    },
    {
     "name": "stdout",
     "output_type": "stream",
     "text": [
      "Arrow strength (direct effect) scores : {('Operational Cost', 'Profit'): np.float64(212710217004.89752), ('Revenue', 'Profit'): np.float64(646060358690.2659)} (percentages : {('Operational Cost', 'Profit'): 24.769155234820598, ('Revenue', 'Profit'): 75.2308447651794}). \n",
      "        The scores indicate how much variance each node is contributing to Profit — where influences through paths over other nodes are ignored. \n",
      "        Removing the most impactful causal link, ('Revenue', 'Profit'), increases the variance of Profit by 646060358690.2659 units (75.2308447651794 %).\n",
      "        \n"
     ]
    }
   ],
   "source": [
    "_, _, interpretation = causal_analysis.get_arrow_strength()\n",
    "print(interpretation)"
   ]
  },
  {
   "cell_type": "code",
   "execution_count": 10,
   "metadata": {},
   "outputs": [
    {
     "name": "stderr",
     "output_type": "stream",
     "text": [
      "2025-09-11 11:19:18,280 : agentic_supply.causality_assistant.causal_analysis - INFO - Calculating intrinsic causal influence of parent nodes to Profit\n",
      "Evaluating set functions...: 100%|██████████| 121/121 [01:37<00:00,  1.25it/s]\n"
     ]
    },
    {
     "name": "stdout",
     "output_type": "stream",
     "text": [
      "Intrinsic causal influence scores : {'Shopping Event?': 48024208290.75835, 'Unit Price': 31570947870.42923, 'Ad Spend': -55648190.204112776, 'Page Views': 1709729723.745198, 'Sold Units': 429968056.7559687, 'Revenue': 1340578.9316697493, 'Operational Cost': -3418597.016386006, 'Profit': -8783975.988315068} (percentages : {'Shopping Event?': 58.706397861050064, 'Unit Price': 38.593382223201715, 'Ad Spend': 0.06802620825294706, 'Page Views': 2.090030777589397, 'Sold Units': 0.5256073281756929, 'Revenue': 0.00163876850712999, 'Operational Cost': 0.004179007290562174, 'Profit': 0.010737825932492678}).\n",
      "        The scores indicate how much variance each node is contributing to Profit — without inheriting the variance from its parents in the causal graph (hence, intrinsic to the node itself).\n",
      "        The most impactful node Shopping Event? contributes 58.706397861050064 % of the variance in Profit.\n",
      "        \n"
     ]
    },
    {
     "data": {
      "text/plain": [
       "<Figure size 640x480 with 0 Axes>"
      ]
     },
     "metadata": {},
     "output_type": "display_data"
    }
   ],
   "source": [
    "_, _, interpretation = causal_analysis.get_intrinsic_causal_influence()\n",
    "print(interpretation)"
   ]
  },
  {
   "cell_type": "markdown",
   "metadata": {},
   "source": [
    "**What are the key factors explaining the Profit drop on a particular day ?**"
   ]
  },
  {
   "cell_type": "code",
   "execution_count": 5,
   "metadata": {},
   "outputs": [],
   "source": [
    "first_day_2022 = data_2022.iloc[[0]]"
   ]
  },
  {
   "cell_type": "code",
   "execution_count": 6,
   "metadata": {},
   "outputs": [
    {
     "name": "stderr",
     "output_type": "stream",
     "text": [
      "2025-09-11 16:59:02,985 : agentic_supply.causality_assistant.causal_analysis - INFO - Calculating anomaly attribution from anomalous_data with 1 samples using the bootstrap method\n",
      "Fitting causal mechanism of node Operational Cost: 100%|██████████| 8/8 [00:00<00:00, 176.90it/s]\n",
      "Evaluating set functions...: 100%|██████████| 119/119 [01:22<00:00,  1.44it/s]\n",
      "Fitting causal mechanism of node Operational Cost: 100%|██████████| 8/8 [00:00<00:00, 123.04it/s]\n",
      "Evaluating set functions...: 100%|██████████| 114/114 [00:04<00:00, 24.21it/s]\n",
      "Fitting causal mechanism of node Operational Cost: 100%|██████████| 8/8 [00:00<00:00, 138.78it/s]\n",
      "Evaluating set functions...: 100%|██████████| 116/116 [00:04<00:00, 26.43it/s]\n",
      "Fitting causal mechanism of node Operational Cost: 100%|██████████| 8/8 [00:00<00:00, 183.12it/s]\n",
      "Evaluating set functions...: 100%|██████████| 108/108 [00:03<00:00, 27.65it/s]\n",
      "Fitting causal mechanism of node Operational Cost: 100%|██████████| 8/8 [00:00<00:00, 185.34it/s]\n",
      "Evaluating set functions...: 100%|██████████| 116/116 [00:03<00:00, 29.50it/s]\n",
      "Fitting causal mechanism of node Operational Cost: 100%|██████████| 8/8 [00:00<00:00, 145.56it/s]\n",
      "Evaluating set functions...: 100%|██████████| 120/120 [00:04<00:00, 25.73it/s]\n",
      "Fitting causal mechanism of node Operational Cost: 100%|██████████| 8/8 [00:00<00:00, 176.59it/s]\n",
      "Evaluating set functions...: 100%|██████████| 111/111 [00:03<00:00, 27.86it/s]\n",
      "Fitting causal mechanism of node Operational Cost: 100%|██████████| 8/8 [00:00<00:00, 186.37it/s]\n",
      "Evaluating set functions...: 100%|██████████| 123/123 [00:04<00:00, 28.74it/s]\n",
      "Fitting causal mechanism of node Operational Cost: 100%|██████████| 8/8 [00:00<00:00, 174.37it/s]\n",
      "Evaluating set functions...: 100%|██████████| 126/126 [00:04<00:00, 28.30it/s]\n",
      "Fitting causal mechanism of node Operational Cost: 100%|██████████| 8/8 [00:00<00:00, 160.95it/s]\n",
      "Evaluating set functions...: 100%|██████████| 112/112 [00:03<00:00, 29.40it/s]\n",
      "Estimating bootstrap interval...: 100%|██████████| 10/10 [02:16<00:00, 13.62s/it]\n"
     ]
    },
    {
     "data": {
      "text/plain": [
       "<Figure size 640x480 with 0 Axes>"
      ]
     },
     "metadata": {},
     "output_type": "display_data"
    }
   ],
   "source": [
    "_, interpretation = causal_analysis.get_anomaly_attribution(first_day_2022, bootstrap=True)"
   ]
  },
  {
   "cell_type": "markdown",
   "metadata": {},
   "source": [
    "**What caused the profit drop in Q1 2022 ?**"
   ]
  },
  {
   "cell_type": "code",
   "execution_count": 12,
   "metadata": {},
   "outputs": [],
   "source": [
    "data_first_quarter_2021 = data_2021[data_2021.Date <= \"2021-03-31\"]\n",
    "data_first_quarter_2022 = data_2022[data_2022.Date <= \"2022-03-31\"]"
   ]
  },
  {
   "cell_type": "code",
   "execution_count": null,
   "metadata": {},
   "outputs": [],
   "source": [
    "_, interpretation = causal_analysis.get_distribution_change_attribution(\n",
    "    data_old=data_first_quarter_2021, data_new=data_first_quarter_2022, bootstrap=True\n",
    ")"
   ]
  }
 ],
 "metadata": {
  "kernelspec": {
   "display_name": ".venv",
   "language": "python",
   "name": "python3"
  },
  "language_info": {
   "codemirror_mode": {
    "name": "ipython",
    "version": 3
   },
   "file_extension": ".py",
   "mimetype": "text/x-python",
   "name": "python",
   "nbconvert_exporter": "python",
   "pygments_lexer": "ipython3",
   "version": "3.12.6"
  }
 },
 "nbformat": 4,
 "nbformat_minor": 2
}
